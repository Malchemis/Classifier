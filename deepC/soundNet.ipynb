{
 "cells": [
  {
   "cell_type": "markdown",
   "metadata": {},
   "source": [
    "# soundNet: Classifying Vehicle Classes from Audio Files"
   ]
  },
  {
   "cell_type": "markdown",
   "metadata": {},
   "source": [
    "Import Libraries/Modules"
   ]
  },
  {
   "cell_type": "code",
   "execution_count": null,
   "metadata": {},
   "outputs": [],
   "source": [
    "import pandas as pd\n",
    "import numpy as np\n",
    "import pickle\n",
    "import torch\n",
    "from torchaudio.transforms import AmplitudeToDB, MelSpectrogram"
   ]
  },
  {
   "cell_type": "markdown",
   "metadata": {},
   "source": [
    "Config"
   ]
  },
  {
   "cell_type": "code",
   "execution_count": null,
   "metadata": {},
   "outputs": [],
   "source": [
    "# Configuration cell\n",
    "# ------------------\n",
    "# This cell contains all the configuration for the notebook.\n",
    "\n",
    "# Path to the directory containing the sound files.\n",
    "data_dir = '../data/'\n",
    "annotations_path= '../data/weak_labels.csv'\n",
    "\n",
    "# Information on the dataset\n",
    "classes = [1, 2, 5, 12, 15]\n",
    "header = ['filepath_wav_30', 'vehicle_class', 'vehicle_class_combo', 'vehicle_class_base',\t'speed']\n",
    "_SEED = 42\n",
    "\n",
    "# Parameters for the spectrogram computation.\n",
    "feats = {\n",
    "    'n_mels': 128,\n",
    "    'n_filters': 2048,\n",
    "    'hop_length': 256,\n",
    "    'n_window': 2048,\n",
    "    'sample_rate': 16000,\n",
    "    'f_min': 0,\n",
    "    'f_max': 8000\n",
    "}"
   ]
  },
  {
   "cell_type": "markdown",
   "metadata": {},
   "source": [
    "## Data Manipulation"
   ]
  },
  {
   "cell_type": "markdown",
   "metadata": {},
   "source": [
    "### Loading audio files"
   ]
  },
  {
   "cell_type": "code",
   "execution_count": null,
   "metadata": {},
   "outputs": [
    {
     "data": {
      "text/html": [
       "<div>\n",
       "<style scoped>\n",
       "    .dataframe tbody tr th:only-of-type {\n",
       "        vertical-align: middle;\n",
       "    }\n",
       "\n",
       "    .dataframe tbody tr th {\n",
       "        vertical-align: top;\n",
       "    }\n",
       "\n",
       "    .dataframe thead th {\n",
       "        text-align: right;\n",
       "    }\n",
       "</style>\n",
       "<table border=\"1\" class=\"dataframe\">\n",
       "  <thead>\n",
       "    <tr style=\"text-align: right;\">\n",
       "      <th></th>\n",
       "      <th>filepath_wav_30</th>\n",
       "      <th>vehicle_class</th>\n",
       "      <th>vehicle_class_combo</th>\n",
       "      <th>vehicle_class_base</th>\n",
       "      <th>speed</th>\n",
       "    </tr>\n",
       "  </thead>\n",
       "  <tbody>\n",
       "    <tr>\n",
       "      <th>0</th>\n",
       "      <td>wav/20230109/rs_an0005_dt_20230109_tm_015511_t...</td>\n",
       "      <td>2</td>\n",
       "      <td>16</td>\n",
       "      <td>M</td>\n",
       "      <td>33</td>\n",
       "    </tr>\n",
       "    <tr>\n",
       "      <th>1</th>\n",
       "      <td>wav/20230109/rs_an0005_dt_20230109_tm_022315_t...</td>\n",
       "      <td>2</td>\n",
       "      <td>16</td>\n",
       "      <td>M</td>\n",
       "      <td>77</td>\n",
       "    </tr>\n",
       "    <tr>\n",
       "      <th>2</th>\n",
       "      <td>wav/20230109/rs_an0005_dt_20230109_tm_022947_t...</td>\n",
       "      <td>2</td>\n",
       "      <td>16</td>\n",
       "      <td>M</td>\n",
       "      <td>28</td>\n",
       "    </tr>\n",
       "    <tr>\n",
       "      <th>3</th>\n",
       "      <td>wav/20230109/rs_an0005_dt_20230109_tm_023948_t...</td>\n",
       "      <td>5</td>\n",
       "      <td>18</td>\n",
       "      <td>M</td>\n",
       "      <td>20</td>\n",
       "    </tr>\n",
       "    <tr>\n",
       "      <th>4</th>\n",
       "      <td>wav/20230109/rs_an0005_dt_20230109_tm_024134_t...</td>\n",
       "      <td>5</td>\n",
       "      <td>18</td>\n",
       "      <td>M</td>\n",
       "      <td>38</td>\n",
       "    </tr>\n",
       "  </tbody>\n",
       "</table>\n",
       "</div>"
      ],
      "text/plain": [
       "                                     filepath_wav_30  vehicle_class  \\\n",
       "0  wav/20230109/rs_an0005_dt_20230109_tm_015511_t...              2   \n",
       "1  wav/20230109/rs_an0005_dt_20230109_tm_022315_t...              2   \n",
       "2  wav/20230109/rs_an0005_dt_20230109_tm_022947_t...              2   \n",
       "3  wav/20230109/rs_an0005_dt_20230109_tm_023948_t...              5   \n",
       "4  wav/20230109/rs_an0005_dt_20230109_tm_024134_t...              5   \n",
       "\n",
       "   vehicle_class_combo vehicle_class_base  speed  \n",
       "0                   16                  M     33  \n",
       "1                   16                  M     77  \n",
       "2                   16                  M     28  \n",
       "3                   18                  M     20  \n",
       "4                   18                  M     38  "
      ]
     },
     "execution_count": 25,
     "metadata": {},
     "output_type": "execute_result"
    }
   ],
   "source": [
    "# Load the annotations in a pandas dataframe\n",
    "labels = pd.read_csv(annotations_path, sep='\\t')\n",
    "labels.head()"
   ]
  },
  {
   "cell_type": "code",
   "execution_count": null,
   "metadata": {},
   "outputs": [
    {
     "name": "stdout",
     "output_type": "stream",
     "text": [
      "There are 3358 unique filenames in the dataset.\n"
     ]
    }
   ],
   "source": [
    "# Compare the number of unique filenames and raw number of rows\n",
    "# to see if there are any duplicates.\n",
    "unique = labels[header[0]].nunique()\n",
    "length = labels.shape[0]\n",
    "if not np.array_equal(unique, length):\n",
    "    print(\"There are duplicates in the dataset.\")\n",
    "else:\n",
    "    print(f\"There are {length} unique filenames in the dataset.\")"
   ]
  },
  {
   "cell_type": "code",
   "execution_count": null,
   "metadata": {},
   "outputs": [],
   "source": [
    "# Verify that the classes are the correct ones\n",
    "unique_classes = labels[header[1]].unique()\n",
    "unique_classes.sort()\n",
    "if not np.array_equal(classes, unique_classes):\n",
    "    print('The classes are not the same as the ones in the annotations file.')\n",
    "    print('Classes in annotations file: {}'.format(unique_classes))\n",
    "    print('Classes in classes variable: {}'.format(classes))\n",
    "    raise ValueError('The classes are not the same as the ones in the annotations file.')"
   ]
  },
  {
   "cell_type": "code",
   "execution_count": null,
   "metadata": {},
   "outputs": [],
   "source": [
    "# Create 3 splits: train, validation and test\n",
    "# -------------------------------------------\n",
    "# We will create 3 splits: train, validation and test. The train split will be used to train the model, the validation\n",
    "# split will be used to evaluate the model during training and the test split will be used to evaluate the model after\n",
    "# training. We will use a 60/20/20 split.\n",
    "\n",
    "# Create a list of the unique audio files\n",
    "audio_files = labels[header[0]].unique()\n",
    "# Shuffle the list with the defined seed\n",
    "np.random.seed(_SEED)\n",
    "np.random.shuffle(audio_files)\n",
    "# Split the list into 3 parts\n",
    "train_files = audio_files[:int(0.6 * len(audio_files))]\n",
    "val_files = audio_files[int(0.6 * len(audio_files)):int(0.8 * len(audio_files))]\n",
    "test_files = audio_files[int(0.8 * len(audio_files)):]"
   ]
  },
  {
   "cell_type": "code",
   "execution_count": null,
   "metadata": {},
   "outputs": [
    {
     "name": "stdout",
     "output_type": "stream",
     "text": [
      "Number of unique audio files: 3358 = 2014 + 672 + 672\n",
      "Number of train files: 2014\n",
      "Number of test files: 672\n",
      "Number of validation files: 672\n"
     ]
    }
   ],
   "source": [
    "# Verify the splits\n",
    "print(f\"Number of unique audio files: {length} = {len(train_files)} + {len(val_files)} + {len(test_files)}\") if len(audio_files) == len(train_files) + len(val_files) + len(test_files) else print('The splits are not correct.')\n",
    "print('Number of train files: {}'.format(len(train_files)))\n",
    "print('Number of test files: {}'.format(len(test_files)))\n",
    "print('Number of validation files: {}'.format(len(val_files)))"
   ]
  },
  {
   "cell_type": "code",
   "execution_count": null,
   "metadata": {},
   "outputs": [],
   "source": [
    "# Create the partitions\n",
    "# ---------------------\n",
    "# The partitions will be together, identified by 3 keys (train, val, test) and the values will be the couple (filename,\n",
    "# class).\n",
    "partitions = {'train': [], 'val': [], 'test': []}\n",
    "for filename in train_files:\n",
    "    partitions['train'].append((filename, labels[labels[header[0]] == filename][header[1]].values[0]))\n",
    "for filename in val_files:\n",
    "    partitions['val'].append((filename, labels[labels[header[0]] == filename][header[1]].values[0]))\n",
    "for filename in test_files:\n",
    "    partitions['test'].append((filename, labels[labels[header[0]] == filename][header[1]].values[0]))\n",
    "    \n",
    "# Verify the partitions\n",
    "if len(partitions['train']) + len(partitions['val']) + len(partitions['test']) != len(audio_files):\n",
    "    print('The partitions are not correct.')"
   ]
  },
  {
   "cell_type": "code",
   "execution_count": null,
   "metadata": {},
   "outputs": [],
   "source": [
    "# Save the partitions\n",
    "# -------------------\n",
    "# We will save the partitions in a pickle file.\n",
    "with open(data_dir + 'partitions.pkl', 'wb') as f:\n",
    "    pickle.dump(partitions, f)"
   ]
  },
  {
   "cell_type": "code",
   "execution_count": null,
   "metadata": {},
   "outputs": [],
   "source": [
    "MelSpectrogram(\n",
    "            sample_rate=feat_params[\"sample_rate\"],\n",
    "            n_fft=feat_params[\"n_window\"],\n",
    "            win_length=feat_params[\"n_window\"],\n",
    "            hop_length=feat_params[\"hop_length\"],\n",
    "            f_min=feat_params[\"f_min\"],\n",
    "            f_max=feat_params[\"f_max\"],\n",
    "            n_mels=feat_params[\"n_mels\"],\n",
    "            window_fn=torch.hamming_window,\n",
    "            wkwargs={\"periodic\": False},\n",
    "            power=1,\n",
    "        )"
   ]
  }
 ],
 "metadata": {
  "kernelspec": {
   "display_name": "sNet",
   "language": "python",
   "name": "python3"
  },
  "language_info": {
   "codemirror_mode": {
    "name": "ipython",
    "version": 3
   },
   "file_extension": ".py",
   "mimetype": "text/x-python",
   "name": "python",
   "nbconvert_exporter": "python",
   "pygments_lexer": "ipython3",
   "version": "3.11.5"
  }
 },
 "nbformat": 4,
 "nbformat_minor": 2
}
